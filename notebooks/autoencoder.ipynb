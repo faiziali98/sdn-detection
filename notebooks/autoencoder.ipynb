{
 "cells": [
  {
   "cell_type": "code",
   "execution_count": 212,
   "metadata": {},
   "outputs": [],
   "source": [
    "import os\n",
    "import torch\n",
    "import csv\n",
    "import random\n",
    "import numpy as np\n",
    "import pandas as pd\n",
    "import seaborn as sns\n",
    "import matplotlib.pyplot as plt\n",
    "\n",
    "from sklearn import preprocessing\n",
    "\n",
    "from sklearn.metrics import confusion_matrix, classification_report, roc_curve, roc_auc_score\n",
    "from sklearn.model_selection import train_test_split\n",
    "\n",
    "import torch.nn as nn\n",
    "import torch.nn.functional as F\n",
    "import torch.optim as optim\n",
    "import torch.utils.data as data_utils\n",
    "\n",
    "#constant declaration\n",
    "NUM_EPOCHS = 50\n",
    "LEARNING_RATE = 1e-4\n",
    "BATCH_SIZE = 32"
   ]
  },
  {
   "cell_type": "code",
   "execution_count": 466,
   "metadata": {},
   "outputs": [
    {
     "data": {
      "text/html": [
       "<div>\n",
       "<style scoped>\n",
       "    .dataframe tbody tr th:only-of-type {\n",
       "        vertical-align: middle;\n",
       "    }\n",
       "\n",
       "    .dataframe tbody tr th {\n",
       "        vertical-align: top;\n",
       "    }\n",
       "\n",
       "    .dataframe thead th {\n",
       "        text-align: right;\n",
       "    }\n",
       "</style>\n",
       "<table border=\"1\" class=\"dataframe\">\n",
       "  <thead>\n",
       "    <tr style=\"text-align: right;\">\n",
       "      <th></th>\n",
       "      <th>Unnamed: 0.1</th>\n",
       "      <th>Unnamed: 0.1.1</th>\n",
       "      <th>start</th>\n",
       "      <th>end</th>\n",
       "      <th>count</th>\n",
       "      <th>avergae_packet_size</th>\n",
       "      <th>syn_packets</th>\n",
       "      <th>synack_packets</th>\n",
       "      <th>ack_packets</th>\n",
       "      <th>data_packets</th>\n",
       "      <th>total_bytes</th>\n",
       "      <th>flow_count</th>\n",
       "      <th>is_attack</th>\n",
       "    </tr>\n",
       "  </thead>\n",
       "  <tbody>\n",
       "    <tr>\n",
       "      <th>0</th>\n",
       "      <td>0</td>\n",
       "      <td>75114</td>\n",
       "      <td>1.540463e+09</td>\n",
       "      <td>1.540463e+09</td>\n",
       "      <td>633</td>\n",
       "      <td>58.0</td>\n",
       "      <td>197.0</td>\n",
       "      <td>196.0</td>\n",
       "      <td>22.0</td>\n",
       "      <td>21.0</td>\n",
       "      <td>36964.0</td>\n",
       "      <td>19.0</td>\n",
       "      <td>True</td>\n",
       "    </tr>\n",
       "    <tr>\n",
       "      <th>1</th>\n",
       "      <td>1</td>\n",
       "      <td>132179</td>\n",
       "      <td>1.527920e+09</td>\n",
       "      <td>1.527920e+09</td>\n",
       "      <td>825</td>\n",
       "      <td>573.0</td>\n",
       "      <td>80.0</td>\n",
       "      <td>80.0</td>\n",
       "      <td>480.0</td>\n",
       "      <td>229.0</td>\n",
       "      <td>472949.0</td>\n",
       "      <td>38.0</td>\n",
       "      <td>True</td>\n",
       "    </tr>\n",
       "    <tr>\n",
       "      <th>2</th>\n",
       "      <td>2</td>\n",
       "      <td>129004</td>\n",
       "      <td>1.540275e+09</td>\n",
       "      <td>1.540275e+09</td>\n",
       "      <td>81</td>\n",
       "      <td>83.0</td>\n",
       "      <td>11.0</td>\n",
       "      <td>11.0</td>\n",
       "      <td>25.0</td>\n",
       "      <td>21.0</td>\n",
       "      <td>6792.0</td>\n",
       "      <td>20.0</td>\n",
       "      <td>True</td>\n",
       "    </tr>\n",
       "    <tr>\n",
       "      <th>3</th>\n",
       "      <td>3</td>\n",
       "      <td>80833</td>\n",
       "      <td>1.528268e+09</td>\n",
       "      <td>1.528268e+09</td>\n",
       "      <td>1011</td>\n",
       "      <td>313.0</td>\n",
       "      <td>202.0</td>\n",
       "      <td>203.0</td>\n",
       "      <td>296.0</td>\n",
       "      <td>193.0</td>\n",
       "      <td>316753.0</td>\n",
       "      <td>30.0</td>\n",
       "      <td>True</td>\n",
       "    </tr>\n",
       "    <tr>\n",
       "      <th>4</th>\n",
       "      <td>4</td>\n",
       "      <td>130374</td>\n",
       "      <td>1.527903e+09</td>\n",
       "      <td>1.527903e+09</td>\n",
       "      <td>1059</td>\n",
       "      <td>424.0</td>\n",
       "      <td>173.0</td>\n",
       "      <td>173.0</td>\n",
       "      <td>435.0</td>\n",
       "      <td>223.0</td>\n",
       "      <td>449397.0</td>\n",
       "      <td>26.0</td>\n",
       "      <td>True</td>\n",
       "    </tr>\n",
       "    <tr>\n",
       "      <th>...</th>\n",
       "      <td>...</td>\n",
       "      <td>...</td>\n",
       "      <td>...</td>\n",
       "      <td>...</td>\n",
       "      <td>...</td>\n",
       "      <td>...</td>\n",
       "      <td>...</td>\n",
       "      <td>...</td>\n",
       "      <td>...</td>\n",
       "      <td>...</td>\n",
       "      <td>...</td>\n",
       "      <td>...</td>\n",
       "      <td>...</td>\n",
       "    </tr>\n",
       "    <tr>\n",
       "      <th>27723</th>\n",
       "      <td>29639</td>\n",
       "      <td>129537</td>\n",
       "      <td>1.540280e+09</td>\n",
       "      <td>1.540280e+09</td>\n",
       "      <td>117</td>\n",
       "      <td>176.0</td>\n",
       "      <td>3.0</td>\n",
       "      <td>3.0</td>\n",
       "      <td>58.0</td>\n",
       "      <td>48.0</td>\n",
       "      <td>20708.0</td>\n",
       "      <td>28.0</td>\n",
       "      <td>False</td>\n",
       "    </tr>\n",
       "    <tr>\n",
       "      <th>27724</th>\n",
       "      <td>29640</td>\n",
       "      <td>193933</td>\n",
       "      <td>1.540176e+09</td>\n",
       "      <td>1.540176e+09</td>\n",
       "      <td>92</td>\n",
       "      <td>164.0</td>\n",
       "      <td>3.0</td>\n",
       "      <td>3.0</td>\n",
       "      <td>43.0</td>\n",
       "      <td>38.0</td>\n",
       "      <td>15147.0</td>\n",
       "      <td>21.0</td>\n",
       "      <td>False</td>\n",
       "    </tr>\n",
       "    <tr>\n",
       "      <th>27725</th>\n",
       "      <td>29642</td>\n",
       "      <td>10828</td>\n",
       "      <td>1.528180e+09</td>\n",
       "      <td>1.528180e+09</td>\n",
       "      <td>432</td>\n",
       "      <td>708.0</td>\n",
       "      <td>4.0</td>\n",
       "      <td>4.0</td>\n",
       "      <td>317.0</td>\n",
       "      <td>198.0</td>\n",
       "      <td>306284.0</td>\n",
       "      <td>26.0</td>\n",
       "      <td>False</td>\n",
       "    </tr>\n",
       "    <tr>\n",
       "      <th>27726</th>\n",
       "      <td>29643</td>\n",
       "      <td>181224</td>\n",
       "      <td>1.529504e+09</td>\n",
       "      <td>1.529504e+09</td>\n",
       "      <td>105</td>\n",
       "      <td>242.0</td>\n",
       "      <td>3.0</td>\n",
       "      <td>3.0</td>\n",
       "      <td>50.0</td>\n",
       "      <td>50.0</td>\n",
       "      <td>25432.0</td>\n",
       "      <td>20.0</td>\n",
       "      <td>False</td>\n",
       "    </tr>\n",
       "    <tr>\n",
       "      <th>27727</th>\n",
       "      <td>29644</td>\n",
       "      <td>199077</td>\n",
       "      <td>1.540194e+09</td>\n",
       "      <td>1.540194e+09</td>\n",
       "      <td>164</td>\n",
       "      <td>208.0</td>\n",
       "      <td>10.0</td>\n",
       "      <td>10.0</td>\n",
       "      <td>82.0</td>\n",
       "      <td>40.0</td>\n",
       "      <td>34179.0</td>\n",
       "      <td>34.0</td>\n",
       "      <td>False</td>\n",
       "    </tr>\n",
       "  </tbody>\n",
       "</table>\n",
       "<p>27728 rows × 13 columns</p>\n",
       "</div>"
      ],
      "text/plain": [
       "       Unnamed: 0.1  Unnamed: 0.1.1         start           end  count  \\\n",
       "0                 0           75114  1.540463e+09  1.540463e+09    633   \n",
       "1                 1          132179  1.527920e+09  1.527920e+09    825   \n",
       "2                 2          129004  1.540275e+09  1.540275e+09     81   \n",
       "3                 3           80833  1.528268e+09  1.528268e+09   1011   \n",
       "4                 4          130374  1.527903e+09  1.527903e+09   1059   \n",
       "...             ...             ...           ...           ...    ...   \n",
       "27723         29639          129537  1.540280e+09  1.540280e+09    117   \n",
       "27724         29640          193933  1.540176e+09  1.540176e+09     92   \n",
       "27725         29642           10828  1.528180e+09  1.528180e+09    432   \n",
       "27726         29643          181224  1.529504e+09  1.529504e+09    105   \n",
       "27727         29644          199077  1.540194e+09  1.540194e+09    164   \n",
       "\n",
       "       avergae_packet_size  syn_packets  synack_packets  ack_packets  \\\n",
       "0                     58.0        197.0           196.0         22.0   \n",
       "1                    573.0         80.0            80.0        480.0   \n",
       "2                     83.0         11.0            11.0         25.0   \n",
       "3                    313.0        202.0           203.0        296.0   \n",
       "4                    424.0        173.0           173.0        435.0   \n",
       "...                    ...          ...             ...          ...   \n",
       "27723                176.0          3.0             3.0         58.0   \n",
       "27724                164.0          3.0             3.0         43.0   \n",
       "27725                708.0          4.0             4.0        317.0   \n",
       "27726                242.0          3.0             3.0         50.0   \n",
       "27727                208.0         10.0            10.0         82.0   \n",
       "\n",
       "       data_packets  total_bytes  flow_count  is_attack  \n",
       "0              21.0      36964.0        19.0       True  \n",
       "1             229.0     472949.0        38.0       True  \n",
       "2              21.0       6792.0        20.0       True  \n",
       "3             193.0     316753.0        30.0       True  \n",
       "4             223.0     449397.0        26.0       True  \n",
       "...             ...          ...         ...        ...  \n",
       "27723          48.0      20708.0        28.0      False  \n",
       "27724          38.0      15147.0        21.0      False  \n",
       "27725         198.0     306284.0        26.0      False  \n",
       "27726          50.0      25432.0        20.0      False  \n",
       "27727          40.0      34179.0        34.0      False  \n",
       "\n",
       "[27728 rows x 13 columns]"
      ]
     },
     "execution_count": 466,
     "metadata": {},
     "output_type": "execute_result"
    }
   ],
   "source": [
    "%store -r benign_flows  \n",
    "%store -r mixed_flows\n",
    "%store -r features\n",
    "\n",
    "mixed_flows"
   ]
  },
  {
   "cell_type": "code",
   "execution_count": 467,
   "metadata": {},
   "outputs": [
    {
     "name": "stdout",
     "output_type": "stream",
     "text": [
      "LR=0.0001, BatchSize=32, #Features=7\n"
     ]
    },
    {
     "data": {
      "text/html": [
       "<div>\n",
       "<style scoped>\n",
       "    .dataframe tbody tr th:only-of-type {\n",
       "        vertical-align: middle;\n",
       "    }\n",
       "\n",
       "    .dataframe tbody tr th {\n",
       "        vertical-align: top;\n",
       "    }\n",
       "\n",
       "    .dataframe thead th {\n",
       "        text-align: right;\n",
       "    }\n",
       "</style>\n",
       "<table border=\"1\" class=\"dataframe\">\n",
       "  <thead>\n",
       "    <tr style=\"text-align: right;\">\n",
       "      <th></th>\n",
       "      <th>avergae_packet_size</th>\n",
       "      <th>syn_packets</th>\n",
       "      <th>synack_packets</th>\n",
       "      <th>ack_packets</th>\n",
       "      <th>data_packets</th>\n",
       "      <th>total_bytes</th>\n",
       "      <th>flow_count</th>\n",
       "    </tr>\n",
       "  </thead>\n",
       "  <tbody>\n",
       "    <tr>\n",
       "      <th>0</th>\n",
       "      <td>0.001311</td>\n",
       "      <td>0.000009</td>\n",
       "      <td>0.000009</td>\n",
       "      <td>0.000987</td>\n",
       "      <td>0.000422</td>\n",
       "      <td>0.999999</td>\n",
       "      <td>0.000038</td>\n",
       "    </tr>\n",
       "    <tr>\n",
       "      <th>1</th>\n",
       "      <td>0.003565</td>\n",
       "      <td>0.000057</td>\n",
       "      <td>0.000057</td>\n",
       "      <td>0.001966</td>\n",
       "      <td>0.001952</td>\n",
       "      <td>0.999990</td>\n",
       "      <td>0.000424</td>\n",
       "    </tr>\n",
       "    <tr>\n",
       "      <th>2</th>\n",
       "      <td>0.003372</td>\n",
       "      <td>0.000294</td>\n",
       "      <td>0.000294</td>\n",
       "      <td>0.002029</td>\n",
       "      <td>0.000826</td>\n",
       "      <td>0.999992</td>\n",
       "      <td>0.000714</td>\n",
       "    </tr>\n",
       "    <tr>\n",
       "      <th>3</th>\n",
       "      <td>0.001715</td>\n",
       "      <td>0.000009</td>\n",
       "      <td>0.000009</td>\n",
       "      <td>0.001027</td>\n",
       "      <td>0.000565</td>\n",
       "      <td>0.999998</td>\n",
       "      <td>0.000048</td>\n",
       "    </tr>\n",
       "    <tr>\n",
       "      <th>4</th>\n",
       "      <td>0.005847</td>\n",
       "      <td>0.000121</td>\n",
       "      <td>0.000121</td>\n",
       "      <td>0.002515</td>\n",
       "      <td>0.002484</td>\n",
       "      <td>0.999976</td>\n",
       "      <td>0.000667</td>\n",
       "    </tr>\n",
       "    <tr>\n",
       "      <th>...</th>\n",
       "      <td>...</td>\n",
       "      <td>...</td>\n",
       "      <td>...</td>\n",
       "      <td>...</td>\n",
       "      <td>...</td>\n",
       "      <td>...</td>\n",
       "      <td>...</td>\n",
       "    </tr>\n",
       "    <tr>\n",
       "      <th>49995</th>\n",
       "      <td>0.002583</td>\n",
       "      <td>0.000011</td>\n",
       "      <td>0.000011</td>\n",
       "      <td>0.000995</td>\n",
       "      <td>0.000676</td>\n",
       "      <td>0.999996</td>\n",
       "      <td>0.000075</td>\n",
       "    </tr>\n",
       "    <tr>\n",
       "      <th>49996</th>\n",
       "      <td>0.005622</td>\n",
       "      <td>0.000117</td>\n",
       "      <td>0.000117</td>\n",
       "      <td>0.002447</td>\n",
       "      <td>0.002447</td>\n",
       "      <td>0.999978</td>\n",
       "      <td>0.000816</td>\n",
       "    </tr>\n",
       "    <tr>\n",
       "      <th>49997</th>\n",
       "      <td>0.004495</td>\n",
       "      <td>0.000111</td>\n",
       "      <td>0.000111</td>\n",
       "      <td>0.001998</td>\n",
       "      <td>0.001868</td>\n",
       "      <td>0.999986</td>\n",
       "      <td>0.000444</td>\n",
       "    </tr>\n",
       "    <tr>\n",
       "      <th>49998</th>\n",
       "      <td>0.016537</td>\n",
       "      <td>0.000149</td>\n",
       "      <td>0.000149</td>\n",
       "      <td>0.003576</td>\n",
       "      <td>0.003874</td>\n",
       "      <td>0.999843</td>\n",
       "      <td>0.003427</td>\n",
       "    </tr>\n",
       "    <tr>\n",
       "      <th>49999</th>\n",
       "      <td>0.008594</td>\n",
       "      <td>0.000077</td>\n",
       "      <td>0.000039</td>\n",
       "      <td>0.002351</td>\n",
       "      <td>0.001850</td>\n",
       "      <td>0.999958</td>\n",
       "      <td>0.000617</td>\n",
       "    </tr>\n",
       "  </tbody>\n",
       "</table>\n",
       "<p>50000 rows × 7 columns</p>\n",
       "</div>"
      ],
      "text/plain": [
       "       avergae_packet_size  syn_packets  synack_packets  ack_packets  \\\n",
       "0                 0.001311     0.000009        0.000009     0.000987   \n",
       "1                 0.003565     0.000057        0.000057     0.001966   \n",
       "2                 0.003372     0.000294        0.000294     0.002029   \n",
       "3                 0.001715     0.000009        0.000009     0.001027   \n",
       "4                 0.005847     0.000121        0.000121     0.002515   \n",
       "...                    ...          ...             ...          ...   \n",
       "49995             0.002583     0.000011        0.000011     0.000995   \n",
       "49996             0.005622     0.000117        0.000117     0.002447   \n",
       "49997             0.004495     0.000111        0.000111     0.001998   \n",
       "49998             0.016537     0.000149        0.000149     0.003576   \n",
       "49999             0.008594     0.000077        0.000039     0.002351   \n",
       "\n",
       "       data_packets  total_bytes  flow_count  \n",
       "0          0.000422     0.999999    0.000038  \n",
       "1          0.001952     0.999990    0.000424  \n",
       "2          0.000826     0.999992    0.000714  \n",
       "3          0.000565     0.999998    0.000048  \n",
       "4          0.002484     0.999976    0.000667  \n",
       "...             ...          ...         ...  \n",
       "49995      0.000676     0.999996    0.000075  \n",
       "49996      0.002447     0.999978    0.000816  \n",
       "49997      0.001868     0.999986    0.000444  \n",
       "49998      0.003874     0.999843    0.003427  \n",
       "49999      0.001850     0.999958    0.000617  \n",
       "\n",
       "[50000 rows x 7 columns]"
      ]
     },
     "execution_count": 467,
     "metadata": {},
     "output_type": "execute_result"
    }
   ],
   "source": [
    "# For full dataset, run tran_feature_selection notebook before this one\n",
    "# For small subset of data, run tran_sample_preprocessing notebook beofore this one (ideal for testing model on CPU)\n",
    "\n",
    "\n",
    "dim = len(features)\n",
    "\n",
    "hyperparam_description = f'LR={LEARNING_RATE}, BatchSize={BATCH_SIZE}, #Features={len(features)}'\n",
    "print(hyperparam_description)\n",
    "\n",
    "#TODO look into scalars vs normalizers --> https://datascience.stackexchange.com/questions/45900/when-to-use-standard-scaler-and-when-normalizer\n",
    "\n",
    "normalizer = preprocessing.Normalizer(norm=\"l2\")\n",
    "normalized_train = normalizer.fit_transform(benign_flows[features]) #axis?\n",
    "train_X = pd.DataFrame(normalized_train, columns = features)\n",
    "\n",
    "mixed_flows = mixed_flows.fillna(method='ffill')\n",
    "\n",
    "normalized_test = normalizer.transform(mixed_flows[features])\n",
    "test_X = pd.DataFrame(normalized_test, columns = features)\n",
    "test_y = mixed_flows.is_attack\n",
    "train_X"
   ]
  },
  {
   "cell_type": "code",
   "execution_count": 215,
   "metadata": {},
   "outputs": [
    {
     "data": {
      "text/plain": [
       "tensor([[1.4240e-03, 5.3001e-06, 5.3001e-06,  ..., 5.0528e-04, 1.0000e+00,\n",
       "         4.4168e-05],\n",
       "        [1.9872e-03, 0.0000e+00, 0.0000e+00,  ..., 4.5986e-04, 1.0000e+00,\n",
       "         4.4578e-05],\n",
       "        [1.9585e-03, 7.6207e-06, 7.6207e-06,  ..., 5.5631e-04, 1.0000e+00,\n",
       "         5.5885e-05],\n",
       "        ...,\n",
       "        [1.2246e-02, 3.3705e-04, 3.3705e-04,  ..., 3.4828e-03, 9.9991e-01,\n",
       "         2.8087e-03],\n",
       "        [1.3696e-02, 1.2229e-04, 1.2229e-04,  ..., 1.8955e-03, 9.9990e-01,\n",
       "         1.1618e-03],\n",
       "        [7.9969e-03, 1.3788e-04, 1.3788e-04,  ..., 3.5848e-03, 9.9995e-01,\n",
       "         1.7924e-03]])"
      ]
     },
     "execution_count": 215,
     "metadata": {},
     "output_type": "execute_result"
    }
   ],
   "source": [
    "#dataset loading\n",
    "train_tensor = torch.tensor(train_X.values.astype(np.float32))\n",
    "train_loader = torch.utils.data.DataLoader(train_tensor, batch_size = BATCH_SIZE, shuffle = True)\n",
    "train_tensor"
   ]
  },
  {
   "cell_type": "code",
   "execution_count": 216,
   "metadata": {},
   "outputs": [],
   "source": [
    "class Autoencoder(nn.Module):\n",
    "    def __init__(self):\n",
    "        super(Autoencoder, self).__init__()\n",
    "        # encoder\n",
    "        self.enc1 = nn.Linear(in_features=dim, out_features=5)\n",
    "        self.enc2 = nn.Linear(in_features=5, out_features=4)\n",
    "        \n",
    "        # decoder \n",
    "        self.dec1 = nn.Linear(in_features=4, out_features=5)\n",
    "        self.dec2 = nn.Linear(in_features=5, out_features=dim)\n",
    "        \n",
    "    def forward(self, x):\n",
    "        # relu alternative: torch.sigmoid\n",
    "        x = F.relu(self.enc1(x))\n",
    "        x = F.relu(self.enc2(x))\n",
    "\n",
    "        x = F.relu(self.dec1(x))\n",
    "        x = F.sigmoid(self.dec2(x))\n",
    "        return x"
   ]
  },
  {
   "cell_type": "code",
   "execution_count": 217,
   "metadata": {},
   "outputs": [
    {
     "name": "stderr",
     "output_type": "stream",
     "text": [
      "/users/grad/fali/anaconda3/lib/python3.8/site-packages/torch/nn/functional.py:1709: UserWarning: nn.functional.sigmoid is deprecated. Use torch.sigmoid instead.\n",
      "  warnings.warn(\"nn.functional.sigmoid is deprecated. Use torch.sigmoid instead.\")\n"
     ]
    },
    {
     "name": "stdout",
     "output_type": "stream",
     "text": [
      "Epoch 1 of 50, Train Loss: 0.14997\n",
      "Epoch 6 of 50, Train Loss: 0.00012\n",
      "Epoch 11 of 50, Train Loss: 0.00012\n",
      "Epoch 16 of 50, Train Loss: 0.00011\n",
      "Epoch 21 of 50, Train Loss: 0.00010\n",
      "Epoch 26 of 50, Train Loss: 0.00005\n",
      "Epoch 31 of 50, Train Loss: 0.00002\n",
      "Epoch 36 of 50, Train Loss: 0.00001\n",
      "Epoch 41 of 50, Train Loss: 0.00001\n",
      "Epoch 46 of 50, Train Loss: 0.00001\n",
      "Completed training with final loss 0.00001\n"
     ]
    }
   ],
   "source": [
    "import pickle\n",
    "device = torch.device(\"cuda\" if torch.cuda.is_available() else \"cpu\")\n",
    "net = Autoencoder()\n",
    "net.to(device)\n",
    "optimizer = optim.Adam(net.parameters(), lr=LEARNING_RATE)\n",
    "#Training model\n",
    "\n",
    "# Alternative loss functions - BCEWithLogitsLoss(), BCELoss()\n",
    "loss_function = nn.MSELoss() # Switching from BCELoss \n",
    "\n",
    "train_loss = []\n",
    "for epoch in range(NUM_EPOCHS):\n",
    "    running_loss = 0.0\n",
    "    for data in train_loader:\n",
    "        input_data = data.to(device=device)\n",
    "        optimizer.zero_grad()\n",
    "        output = net(input_data).to(device=device)                  # output is the reconstruced x \n",
    "        loss = loss_function(output, input_data).to(device=device)  # input_data should be the target variable\n",
    "        loss.backward()\n",
    "        optimizer.step()\n",
    "        running_loss += loss.item()\n",
    "    \n",
    "    loss = running_loss / len(train_loader)\n",
    "    train_loss.append(loss)\n",
    "    pickle.dump(net, open(\"model\", 'wb'))\n",
    "    \n",
    "    if epoch % 5 == 0:\n",
    "        print('Epoch {} of {}, Train Loss: {:.5f}'.format(\n",
    "          epoch+1, NUM_EPOCHS, loss))\n",
    "print(\"Completed training with final loss {:.5f}\".format(train_loss[-1]))"
   ]
  },
  {
   "cell_type": "code",
   "execution_count": 218,
   "metadata": {},
   "outputs": [
    {
     "data": {
      "text/plain": [
       "[<matplotlib.lines.Line2D at 0x7f19609528e0>]"
      ]
     },
     "execution_count": 218,
     "metadata": {},
     "output_type": "execute_result"
    },
    {
     "data": {
      "image/png": "[encoded data removed]",
      "text/plain": [
       "<Figure size 1080x720 with 1 Axes>"
      ]
     },
     "metadata": {
      "needs_background": "light"
     },
     "output_type": "display_data"
    }
   ],
   "source": [
    "_, ax = plt.subplots(1,1,figsize=(15,10))\n",
    "plt.xlabel(\"Epoch\")\n",
    "plt.ylabel(\"Reconstruction Loss\")\n",
    "ax.set_title(f'Deep Auto-encoder using {loss_function}\\n{hyperparam_description}')\n",
    "ax.plot(train_loss)"
   ]
  },
  {
   "cell_type": "code",
   "execution_count": 468,
   "metadata": {},
   "outputs": [
    {
     "name": "stderr",
     "output_type": "stream",
     "text": [
      "/users/grad/fali/anaconda3/lib/python3.8/site-packages/torch/nn/functional.py:1709: UserWarning: nn.functional.sigmoid is deprecated. Use torch.sigmoid instead.\n",
      "  warnings.warn(\"nn.functional.sigmoid is deprecated. Use torch.sigmoid instead.\")\n"
     ]
    }
   ],
   "source": [
    "# Calculate reconstruction loss for test partition (mixed flow data)\n",
    "test_loss = []\n",
    "net.eval()\n",
    "test_tensor = torch.tensor(test_X.values.astype(np.float32))\n",
    "loss_function = nn.MSELoss()\n",
    "\n",
    "items = []\n",
    "items2 = []\n",
    "\n",
    "with torch.no_grad():\n",
    "    for i in range(len(test_X)):\n",
    "        inputs = test_tensor[i].to(device=device)\n",
    "        output = net(inputs).to(device=device)\n",
    "        loss = loss_function(output, inputs).to(device=device)\n",
    "        test_loss.append(loss.item())"
   ]
  },
  {
   "cell_type": "code",
   "execution_count": 469,
   "metadata": {},
   "outputs": [
    {
     "data": {
      "text/plain": [
       "8.041274904826421e-06"
      ]
     },
     "execution_count": 469,
     "metadata": {},
     "output_type": "execute_result"
    }
   ],
   "source": [
    "a = np.array(test_loss)\n",
    "np.percentile(a, 99)"
   ]
  },
  {
   "cell_type": "code",
   "execution_count": 470,
   "metadata": {
    "scrolled": true
   },
   "outputs": [
    {
     "name": "stdout",
     "output_type": "stream",
     "text": [
      "Selected Attack Threshold: 3.939523594453931e-06\n",
      "Theshold yields TPR: 0.8508, FPR: 0.0180\n",
      "AUC: 0.9810\n"
     ]
    },
    {
     "data": {
      "text/plain": [
       "<matplotlib.legend.Legend at 0x7f19608b8d30>"
      ]
     },
     "execution_count": 470,
     "metadata": {},
     "output_type": "execute_result"
    },
    {
     "data": {
      "image/png": "[encoded data removed]",
      "text/plain": [
       "<Figure size 720x720 with 1 Axes>"
      ]
     },
     "metadata": {
      "needs_background": "light"
     },
     "output_type": "display_data"
    }
   ],
   "source": [
    "fpr, tpr, thresholds = roc_curve(y_true=test_y.astype(int), y_score=test_loss, pos_label=1)\n",
    "ranked_thresholds = sorted(list(zip(np.abs(tpr - fpr), thresholds, tpr, fpr)), key=lambda i: i[0], reverse=True)\n",
    "_, attack_threshold, threshold_tpr, threshold_fpr = ranked_thresholds[0]\n",
    "print(f\"Selected Attack Threshold: {attack_threshold}\")\n",
    "print(\"Theshold yields TPR: {:.4f}, FPR: {:.4f}\".format(threshold_tpr, threshold_fpr))\n",
    "\n",
    "auc = roc_auc_score(y_true=test_y.astype(int),  y_score=test_loss)\n",
    "print(\"AUC: {:.4f}\".format(auc))\n",
    "\n",
    "plt.figure(figsize=(10, 10))\n",
    "plt.plot([0,1], [0,1], linestyle=\"--\") # plot baseline curve\n",
    "plt.plot(fpr, tpr, marker=\".\", label=\"Attack Threshold:{:.6f}\\nTPR: {:.4f}, FPR:{:.4f}\".format(attack_threshold, threshold_tpr, threshold_fpr))\n",
    "plt.axhline(y=threshold_tpr, color='darkgreen', lw=0.8, ls='--')\n",
    "plt.axvline(x=threshold_fpr, color='darkgreen', lw=0.8, ls='--')\n",
    "plt.title(\"ROC Curve\")\n",
    "plt.ylabel(\"True Positive Rate\")\n",
    "plt.xlabel(\"False Positive Rate\")\n",
    "plt.legend(loc=\"lower right\")"
   ]
  },
  {
   "cell_type": "code",
   "execution_count": 483,
   "metadata": {
    "scrolled": false
   },
   "outputs": [
    {
     "name": "stdout",
     "output_type": "stream",
     "text": [
      "              precision    recall  f1-score   support\n",
      "\n",
      "      benign       0.97      0.99      0.98     23352\n",
      "      attack       0.95      0.84      0.89      4376\n",
      "\n",
      "    accuracy                           0.97     27728\n",
      "   macro avg       0.96      0.92      0.94     27728\n",
      "weighted avg       0.97      0.97      0.97     27728\n",
      "\n"
     ]
    },
    {
     "data": {
      "image/png": "[encoded data removed]",
      "text/plain": [
       "<Figure size 432x288 with 2 Axes>"
      ]
     },
     "metadata": {
      "needs_background": "light"
     },
     "output_type": "display_data"
    }
   ],
   "source": [
    "attack_threshold = np.percentile(a, 86)\n",
    "test_results = test_y.to_frame().astype(bool)\n",
    "test_results['loss'] = pd.Series(test_loss, index=test_results.index)\n",
    "test_results['is_attack_prediction'] = test_results.loss >= attack_threshold\n",
    "\n",
    "conf_matrix = confusion_matrix(test_results.is_attack, test_results.is_attack_prediction)\n",
    "plt.figure()\n",
    "sns.heatmap(conf_matrix, annot=True, annot_kws={\"size\": 16}, fmt='g')\n",
    "plt.title('Attack Threshold Classification - Confusion Matrix')\n",
    "print(classification_report(test_results.is_attack, test_results.is_attack_prediction, target_names=[\"benign\", \"attack\"]))"
   ]
  },
  {
   "cell_type": "code",
   "execution_count": 472,
   "metadata": {},
   "outputs": [
    {
     "name": "stdout",
     "output_type": "stream",
     "text": [
      "23352\n"
     ]
    },
    {
     "name": "stderr",
     "output_type": "stream",
     "text": [
      "/users/grad/fali/anaconda3/lib/python3.8/site-packages/seaborn/distributions.py:305: UserWarning: Dataset has 0 variance; skipping density estimate.\n",
      "  warnings.warn(msg, UserWarning)\n"
     ]
    },
    {
     "data": {
      "image/png": "[encoded data removed]",
      "text/plain": [
       "<Figure size 1152x576 with 1 Axes>"
      ]
     },
     "metadata": {
      "needs_background": "light"
     },
     "output_type": "display_data"
    }
   ],
   "source": [
    "benign_loss = test_results[test_results['is_attack'] == False].loss\n",
    "benign_loss = benign_loss[benign_loss<0.0001838608441175893]\n",
    "# benign_loss = benign_loss[benign_loss<max(benign_loss)]\n",
    "print(len(benign_loss))\n",
    "sns.displot(benign_loss, bins=100, kde=True, color='navy', height=8, aspect=2)\n",
    "plt.axvline(attack_threshold, 0.0, 10, color='darkgreen', linestyle='dashed')\n",
    "plt.title('Test Dataset - Benign Flow Loss Distribution')\n",
    "plt.grid(True)"
   ]
  },
  {
   "cell_type": "code",
   "execution_count": 473,
   "metadata": {},
   "outputs": [
    {
     "name": "stderr",
     "output_type": "stream",
     "text": [
      "/users/grad/fali/anaconda3/lib/python3.8/site-packages/seaborn/distributions.py:305: UserWarning: Dataset has 0 variance; skipping density estimate.\n",
      "  warnings.warn(msg, UserWarning)\n"
     ]
    },
    {
     "data": {
      "image/png": "[encoded data removed]",
      "text/plain": [
       "<Figure size 1152x576 with 1 Axes>"
      ]
     },
     "metadata": {
      "needs_background": "light"
     },
     "output_type": "display_data"
    }
   ],
   "source": [
    "attack_loss = test_results[test_results['is_attack'] == True].loss\n",
    "attack_loss = attack_loss[attack_loss<0.0001537241142615676]\n",
    "sns.displot(attack_loss, bins=100, kde=True, color='crimson', height=8, aspect=2)\n",
    "plt.axvline(attack_threshold, 0.0, 10, color='darkgreen', linestyle='dashed')\n",
    "plt.title('Test Dataset - Attack Flow Loss Distribution')\n",
    "plt.grid(True)"
   ]
  },
  {
   "cell_type": "code",
   "execution_count": 376,
   "metadata": {},
   "outputs": [
    {
     "name": "stderr",
     "output_type": "stream",
     "text": [
      "/users/grad/fali/anaconda3/lib/python3.8/site-packages/seaborn/distributions.py:305: UserWarning: Dataset has 0 variance; skipping density estimate.\n",
      "  warnings.warn(msg, UserWarning)\n"
     ]
    },
    {
     "data": {
      "image/png": "[encoded data removed]",
      "text/plain": [
       "<Figure size 1440x576 with 1 Axes>"
      ]
     },
     "metadata": {
      "needs_background": "light"
     },
     "output_type": "display_data"
    }
   ],
   "source": [
    "fig, ax = plt.subplots(figsize=(20, 8))\n",
    "attack_loss = test_results[test_results['is_attack'] == True].loss\n",
    "benign_loss = test_results[test_results['is_attack'] == False].loss\n",
    "sns.histplot(benign_loss, ax=ax, bins=100, kde=True, color='navy', alpha=0.5)\n",
    "sns.histplot(attack_loss, ax=ax, bins=100, kde=True, color='crimson', alpha=0.5)\n",
    "\n",
    "plt.axvline(attack_threshold, 0.0, 10, color='darkgreen', linestyle='dashed')\n",
    "plt.title('Test Dataset - Mixed Flow Loss Distribution')\n",
    "ax.grid(True)"
   ]
  },
  {
   "cell_type": "code",
   "execution_count": 30,
   "metadata": {},
   "outputs": [
    {
     "name": "stderr",
     "output_type": "stream",
     "text": [
      "/users/grad/fali/anaconda3/lib/python3.8/site-packages/torch/nn/functional.py:1709: UserWarning: nn.functional.sigmoid is deprecated. Use torch.sigmoid instead.\n",
      "  warnings.warn(\"nn.functional.sigmoid is deprecated. Use torch.sigmoid instead.\")\n"
     ]
    }
   ],
   "source": [
    "# Calculating loss for training-set on trained model (for toubleshooting distributions)\n",
    "post_train_loss = [] \n",
    "net.eval()\n",
    "train_tensor = torch.tensor(train_X.values.astype(np.float32))\n",
    "\n",
    "with torch.no_grad():\n",
    "    for i in range(len(train_X)):\n",
    "        input = train_tensor[i].to(device=device)\n",
    "        output = net(input).to(device=device)\n",
    "        loss = loss_function(output, input).to(device=device)\n",
    "        post_train_loss.append(loss.item())"
   ]
  },
  {
   "cell_type": "code",
   "execution_count": 124,
   "metadata": {},
   "outputs": [
    {
     "name": "stderr",
     "output_type": "stream",
     "text": [
      "/users/grad/fali/anaconda3/lib/python3.8/site-packages/seaborn/distributions.py:305: UserWarning: Dataset has 0 variance; skipping density estimate.\n",
      "  warnings.warn(msg, UserWarning)\n"
     ]
    },
    {
     "data": {
      "image/png": "[encoded data removed]",
      "text/plain": [
       "<Figure size 1152x576 with 1 Axes>"
      ]
     },
     "metadata": {
      "needs_background": "light"
     },
     "output_type": "display_data"
    }
   ],
   "source": [
    "# Graph loss density for training set post training\n",
    "post_train_results = pd.DataFrame({'is_attack': [False] * len(post_train_loss)})\n",
    "post_train_results['loss'] = pd.Series(post_train_loss, index=post_train_results.index)\n",
    "post_train_results['is_attack_prediction'] = post_train_results.loss > attack_threshold\n",
    "\n",
    "sns.displot(post_train_results.loss, bins=100, kde=True, color='navy', height=8, aspect=2)\n",
    "plt.axvline(attack_threshold, 0.0, 10, color='darkgreen', linestyle='dashed')\n",
    "plt.title('Training Dataset - Post-training Benign Flow Loss Distribution')\n",
    "plt.grid(True)"
   ]
  },
  {
   "cell_type": "code",
   "execution_count": 465,
   "metadata": {},
   "outputs": [],
   "source": [
    "\n",
    "#         if loss.item() > 3.1759739158587763e-06 and test_y.iloc[i] == True:\n",
    "#             items.append(i)\n",
    "#         elif test_y.iloc[i] == False and loss.item() < 3.98451329242496286e-06:\n",
    "#             items2.append(i)\n",
    "#         break\n",
    "\n",
    "mixed_flows.iloc[items].to_csv('/users/grad/fali/attack/tran_mixed_50k_samples.csv')\n",
    "mixed_flows.iloc[items2].to_csv('/users/grad/fali/attack/tran_mixed_50k_samples2.csv')"
   ]
  },
  {
   "cell_type": "code",
   "execution_count": null,
   "metadata": {},
   "outputs": [],
   "source": []
  }
 ],
 "metadata": {
  "kernelspec": {
   "display_name": "Python 3",
   "language": "python",
   "name": "python3"
  },
  "language_info": {
   "codemirror_mode": {
    "name": "ipython",
    "version": 3
   },
   "file_extension": ".py",
   "mimetype": "text/x-python",
   "name": "python",
   "nbconvert_exporter": "python",
   "pygments_lexer": "ipython3",
   "version": "3.8.5"
  }
 },
 "nbformat": 4,
 "nbformat_minor": 4
}
