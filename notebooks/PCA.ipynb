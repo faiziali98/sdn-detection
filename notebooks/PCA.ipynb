{
 "cells": [
  {
   "cell_type": "code",
   "execution_count": null,
   "metadata": {},
   "outputs": [],
   "source": [
    "# Import libraries\n",
    "'''Main'''\n",
    "import numpy as np\n",
    "import pandas as pd\n",
    "import os, time\n",
    "import pickle, gzip\n",
    "\n",
    "'''Data Viz'''\n",
    "import matplotlib.pyplot as plt\n",
    "import seaborn as sns\n",
    "color = sns.color_palette()\n",
    "import matplotlib as mpl\n",
    "\n",
    "%matplotlib inline\n",
    "\n",
    "'''Data Prep and Model Evaluation'''\n",
    "from sklearn import preprocessing as pp\n",
    "from sklearn.model_selection import train_test_split \n",
    "from sklearn.metrics import precision_recall_curve, average_precision_score, confusion_matrix, classification_report\n",
    "from sklearn.metrics import roc_curve, auc, roc_auc_score\n",
    "\n",
    "\n",
    "import torch\n",
    "\n",
    "#constant declaration\n",
    "NUM_EPOCHS = 50\n",
    "LEARNING_RATE = 1e-4\n",
    "BATCH_SIZE = 256"
   ]
  },
  {
   "cell_type": "code",
   "execution_count": null,
   "metadata": {},
   "outputs": [],
   "source": [
    "# For full dataset, run t2_flow notebook before this one\n",
    "# For small subset of data, run t2_flow_subset notebook beofore this one (ideal for testing model on CPU)\n",
    "\n",
    "%store -r benign_flows  \n",
    "%store -r mixed_flows\n",
    "%store -r features\n",
    "# These features were manually selected based off visible differences in attack/benign histograms\n",
    "# # https://github.com/MackPreston/iot-traffic-analysis/blob/main/notebooks/explore/feature_hists.ipynb\n",
    "dim = len(features)\n",
    "\n",
    "hyperparam_description = f'LR={LEARNING_RATE}, BatchSize={BATCH_SIZE}, #Features={len(features)}'\n",
    "\n",
    "#TODO look into scalars vs normalizers --> https://datascience.stackexchange.com/questions/45900/when-to-use-standard-scaler-and-when-normalizer\n",
    "#train data scaling\n",
    "extra_data = np.zeros((benign_flows.shape[0]), dtype=bool)\n",
    "\n",
    "data_train = benign_flows.loc[:,features]\n",
    "\n",
    "featuresToScale_train = data_train.columns\n",
    "sX = pp.StandardScaler(copy=True)\n",
    "data_train.loc[:,featuresToScale_train] = sX.fit_transform(data_train[featuresToScale_train])\n",
    "\n",
    "X_train = data_train.loc[:,featuresToScale_train]\n",
    "y_train = pd.Series(extra_data)   #mixed_flows.is_attack\n",
    "\n",
    "#test data scaling\n",
    "data_test = mixed_flows.loc[:,features]\n",
    "\n",
    "featuresToScale_test = data_test.columns\n",
    "# data_test.loc[:,featuresToScale_test] = sX.transform(data_test[featuresToScale_test])\n",
    "\n",
    "X_test = data_test.loc[:,featuresToScale_test]\n",
    "y_test = mixed_flows.is_attack\n",
    "print(type(y_test))"
   ]
  },
  {
   "cell_type": "code",
   "execution_count": null,
   "metadata": {},
   "outputs": [],
   "source": [
    "def anomalyScores(originalDF, reducedDF):\n",
    "    loss = np.sum((np.array(originalDF)-np.array(reducedDF))**2, axis=1)\n",
    "    loss = pd.Series(data=loss,index=originalDF.index)\n",
    "    loss = (loss-np.min(loss))/(np.max(loss)-np.min(loss))\n",
    "\n",
    "    return loss"
   ]
  },
  {
   "cell_type": "code",
   "execution_count": null,
   "metadata": {},
   "outputs": [],
   "source": [
    "def plotResults(trueLabels, anomalyScores, returnPreds = False):\n",
    "    preds = pd.concat([trueLabels, anomalyScores], axis=1)\n",
    "    preds.columns = ['trueLabel', 'anomalyScore']\n",
    "    precision, recall, thresholds = \\\n",
    "        precision_recall_curve(preds['trueLabel'],preds['anomalyScore'])\n",
    "    average_precision = \\\n",
    "        average_precision_score(preds['trueLabel'],preds['anomalyScore'])\n",
    "    \n",
    "    plt.step(recall, precision, color='k', alpha=0.7, where='post')\n",
    "    plt.fill_between(recall, precision, step='post', alpha=0.3, color='k')\n",
    "\n",
    "    plt.xlabel('Recall')\n",
    "    plt.ylabel('Precision')\n",
    "    plt.ylim([0.0, 1.05])\n",
    "    plt.xlim([0.0, 1.0])\n",
    "    \n",
    "    plt.title('Precision-Recall curve: Average Precision = \\\n",
    "    {0:0.2f}'.format(average_precision))\n",
    "\n",
    "    fpr, tpr, thresholds = roc_curve(preds['trueLabel'], \\\n",
    "                                     preds['anomalyScore'])\n",
    "    areaUnderROC = auc(fpr, tpr)\n",
    "\n",
    "    plt.figure()\n",
    "    plt.plot(fpr, tpr, color='r', lw=2, label='ROC curve')\n",
    "    plt.plot([0, 1], [0, 1], color='k', lw=2, linestyle='--')\n",
    "    plt.xlim([0.0, 1.0])\n",
    "    plt.ylim([0.0, 1.05])\n",
    "    plt.xlabel('False Positive Rate')\n",
    "    plt.ylabel('True Positive Rate')\n",
    "    plt.title('Receiver operating characteristic: \\\n",
    "    Area under the curve = {0:0.2f}'.format(areaUnderROC))\n",
    "    plt.legend(loc=\"lower right\")\n",
    "    plt.show()\n",
    "    \n",
    "    if returnPreds==True:\n",
    "        return preds"
   ]
  },
  {
   "cell_type": "code",
   "execution_count": null,
   "metadata": {},
   "outputs": [],
   "source": [
    "def scatterPlot(xDF, yDF, algoName):\n",
    "    tempDF = pd.DataFrame(data=xDF.loc[:,0:1], index=xDF.index)\n",
    "    tempDF = pd.concat((tempDF,yDF), axis=1, join=\"inner\")\n",
    "    tempDF.columns = [\"First Vector\", \"Second Vector\", \"Label\"]\n",
    "    sns.lmplot(x=\"First Vector\", y=\"Second Vector\", hue=\"Label\", \\\n",
    "               data=tempDF, fit_reg=False)\n",
    "    ax = plt.gca()\n",
    "    ax.set_title(\"Separation of Observations using \"+algoName)"
   ]
  },
  {
   "cell_type": "code",
   "execution_count": null,
   "metadata": {},
   "outputs": [],
   "source": [
    "# PCA in 13 principal components (training set)\n",
    "from sklearn.decomposition import PCA\n",
    "\n",
    "n_components = 4\n",
    "whiten = False\n",
    "random_state = 2018\n",
    "\n",
    "pca = PCA(n_components=n_components, whiten=whiten, \\\n",
    "          random_state=random_state)\n",
    "\n",
    "X_train_PCA = pca.fit_transform(X_train)\n",
    "X_train_PCA = pd.DataFrame(data=X_train_PCA, index=X_train.index)\n",
    "# print(X_train_PCA)\n",
    "\n",
    "\n",
    "X_train_PCA_inverse = pca.inverse_transform(X_train_PCA)\n",
    "X_train_PCA_inverse = pd.DataFrame(data=X_train_PCA_inverse, \\\n",
    "                                   index=X_train.index)\n",
    "\n",
    "scatterPlot(X_train_PCA, y_train, \"PCA\")"
   ]
  },
  {
   "cell_type": "code",
   "execution_count": null,
   "metadata": {},
   "outputs": [],
   "source": [
    "# PCA on Test Set\n",
    "X_test_PCA = pca.transform(X_test)\n",
    "# print(X_test_PCA)\n",
    "X_test_PCA = pd.DataFrame(data=X_test_PCA, index=X_test.index)\n",
    "\n",
    "X_test_PCA_inverse = pca.inverse_transform(X_test_PCA)\n",
    "X_test_PCA_inverse = pd.DataFrame(data=X_test_PCA_inverse, \\\n",
    "                                  index=X_test.index)\n",
    "\n",
    "scatterPlot(X_test_PCA, y_test, \"PCA\")"
   ]
  },
  {
   "cell_type": "code",
   "execution_count": null,
   "metadata": {},
   "outputs": [],
   "source": [
    "anomalyScoresPCA = anomalyScores(X_test, X_test_PCA_inverse)\n",
    "preds = plotResults(y_test, anomalyScoresPCA, True)\n",
    "\n",
    "preds.sort_values(by=\"anomalyScore\",ascending=False,inplace=True)\n",
    "cutoff = 300\n",
    "predsTop = preds[:cutoff]\n",
    "\n",
    "print(\"Precision: \",np.round(predsTop. \\\n",
    "            anomalyScore[predsTop.trueLabel==1].count()/cutoff,2))\n",
    "print(\"Recall: \",np.round(predsTop. \\\n",
    "            anomalyScore[predsTop.trueLabel==1].count()/y_test.sum(),2))\n",
    "print(f'Fraud Caught out of {cutoff} Cases:', predsTop.trueLabel.sum())"
   ]
  },
  {
   "cell_type": "code",
   "execution_count": null,
   "metadata": {},
   "outputs": [],
   "source": [
    "fpr, tpr, thresholds = roc_curve(y_true=y_test.astype(int), y_score=anomalyScoresPCA, pos_label=1)\n",
    "ranked_thresholds = sorted(list(zip(np.abs(tpr - fpr), thresholds, tpr, fpr)), key=lambda i: i[0], reverse=True)\n",
    "_, attack_threshold, threshold_tpr, threshold_fpr = ranked_thresholds[0]\n",
    "print(f\"Selected Attack Threshold: {attack_threshold}\")\n",
    "print(\"Theshold yields TPR: {:.4f}, FPR: {:.4f}\".format(threshold_tpr, threshold_fpr))\n",
    "\n",
    "auc = roc_auc_score(y_true=y_test.astype(int),  y_score=anomalyScoresPCA)\n",
    "print(\"AUC: {:.4f}\".format(auc))\n",
    "\n",
    "plt.figure(figsize=(10, 10))\n",
    "plt.plot([0,1], [0,1], linestyle=\"--\") # plot baseline curve\n",
    "plt.plot(fpr, tpr, marker=\".\", label=\"Attack Threshold:{:.16f}\\nTPR: {:.4f}, FPR:{:.4f}\".format(attack_threshold, threshold_tpr, threshold_fpr))\n",
    "plt.axhline(y=threshold_tpr, color='darkgreen', lw=0.8, ls='--')\n",
    "plt.axvline(x=threshold_fpr, color='darkgreen', lw=0.8, ls='--')\n",
    "plt.title(\"ROC Curve\")\n",
    "plt.ylabel(\"True Positive Rate\")\n",
    "plt.xlabel(\"False Positive Rate\")\n",
    "plt.legend(loc=\"lower right\")"
   ]
  },
  {
   "cell_type": "code",
   "execution_count": null,
   "metadata": {},
   "outputs": [],
   "source": [
    "# a = np.array(test_loss)\n",
    "# attack_threshold = np.percentile(a, 99)\n",
    "test_results = y_test.to_frame().astype(bool)\n",
    "test_results['loss'] = pd.Series(anomalyScoresPCA, index=test_results.index)\n",
    "test_results['is_attack_prediction'] = test_results.loss > attack_threshold\n",
    "\n",
    "conf_matrix = confusion_matrix(test_results.is_attack, test_results.is_attack_prediction)\n",
    "plt.figure()\n",
    "sns.heatmap(conf_matrix, annot=True, annot_kws={\"size\": 16}, fmt='g')\n",
    "plt.title('Attack Threshold Classification - Confusion Matrix')\n",
    "print(classification_report(test_results.is_attack, test_results.is_attack_prediction, target_names=[\"benign\", \"attack\"]))"
   ]
  },
  {
   "cell_type": "code",
   "execution_count": 71,
   "metadata": {},
   "outputs": [
    {
     "data": {
      "image/png": "[encoded data removed]",
      "text/plain": [
       "<Figure size 1152x576 with 1 Axes>"
      ]
     },
     "metadata": {
      "needs_background": "light"
     },
     "output_type": "display_data"
    }
   ],
   "source": [
    "benign_loss = test_results[test_results['is_attack'] == False].loss\n",
    "sns.displot(benign_loss, bins=100, kde=True, color='navy', height=8, aspect=2)\n",
    "plt.axvline(attack_threshold, 0.0, 10, color='darkgreen', linestyle='dashed')\n",
    "plt.title('Test Dataset - Benign Flow Loss Distribution')\n",
    "plt.grid(True)"
   ]
  },
  {
   "cell_type": "code",
   "execution_count": null,
   "metadata": {},
   "outputs": [],
   "source": [
    "attack_loss = test_results[test_results['is_attack'] == True].loss\n",
    "sns.displot(attack_loss, bins=100, kde=True, color='crimson', height=8, aspect=2)\n",
    "plt.axvline(attack_threshold, 0.0, 10, color='darkgreen', linestyle='dashed')\n",
    "plt.title('Test Dataset - Attack Flow Loss Distribution')\n",
    "plt.grid(True)"
   ]
  },
  {
   "cell_type": "code",
   "execution_count": 13,
   "metadata": {},
   "outputs": [
    {
     "data": {
      "image/png": "[encoded data removed]",
      "text/plain": [
       "<Figure size 1440x576 with 1 Axes>"
      ]
     },
     "metadata": {
      "needs_background": "light"
     },
     "output_type": "display_data"
    }
   ],
   "source": [
    "fig, ax = plt.subplots(figsize=(20, 8))\n",
    "attack_loss = test_results[test_results['is_attack'] == True].loss\n",
    "benign_loss = test_results[test_results['is_attack'] == False].loss\n",
    "sns.histplot(benign_loss, ax=ax, bins=100, kde=True, color='navy', alpha=0.5)\n",
    "sns.histplot(attack_loss, ax=ax, bins=100, kde=True, color='crimson', alpha=0.5)\n",
    "\n",
    "plt.axvline(attack_threshold, 0.0, 10, color='darkgreen', linestyle='dashed')\n",
    "plt.title('Test Dataset - Mixed Flow Loss Distribution')\n",
    "ax.grid(True)\n"
   ]
  },
  {
   "cell_type": "code",
   "execution_count": null,
   "metadata": {},
   "outputs": [],
   "source": []
  }
 ],
 "metadata": {
  "kernelspec": {
   "display_name": "Python 3",
   "language": "python",
   "name": "python3"
  },
  "language_info": {
   "codemirror_mode": {
    "name": "ipython",
    "version": 3
   },
   "file_extension": ".py",
   "mimetype": "text/x-python",
   "name": "python",
   "nbconvert_exporter": "python",
   "pygments_lexer": "ipython3",
   "version": "3.8.5"
  }
 },
 "nbformat": 4,
 "nbformat_minor": 4
}
